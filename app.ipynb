{
 "cells": [
  {
   "cell_type": "code",
   "execution_count": 57,
   "id": "5f42a328-0e3a-4ce0-90d3-c1e01b0aa990",
   "metadata": {},
   "outputs": [],
   "source": [
    "# modules\n",
    "import os\n",
    "import ollama\n",
    "import gradio as gr\n",
    "from openai import OpenAI\n",
    "from dotenv import load_dotenv\n",
    "from IPython.display import Markdown , display , update_display"
   ]
  },
  {
   "cell_type": "code",
   "execution_count": 58,
   "id": "2ad9bde1-c4e3-4c0a-a7f3-0595feeb0a0b",
   "metadata": {},
   "outputs": [
    {
     "data": {
      "text/plain": [
       "True"
      ]
     },
     "execution_count": 58,
     "metadata": {},
     "output_type": "execute_result"
    }
   ],
   "source": [
    "# env file loading\n",
    "load_dotenv()"
   ]
  },
  {
   "cell_type": "code",
   "execution_count": 59,
   "id": "2e4b2857-6c78-4c4a-b085-9057b5b64545",
   "metadata": {},
   "outputs": [],
   "source": [
    "# API of OpenAi\n",
    "openai_api = os.getenv('OPENAI_API_KEY')\n",
    "openai = OpenAI()"
   ]
  },
  {
   "cell_type": "code",
   "execution_count": 60,
   "id": "d793297b-ffae-4295-9284-6b07d3db14c1",
   "metadata": {},
   "outputs": [],
   "source": [
    "# system prompt\n",
    "system_prompt = 'You are an assistant which generate equivalent code in any language from python code given by user for the mac m4'\n",
    "system_prompt+='Do not provide any other data like explaination or any thing other than the main code'\n",
    "system_prompt+='Can occationaly provide comments but give it crisp and short'\n",
    "system_prompt+='add first comment as equaivalent language code example: Equivalent Java Code'"
   ]
  },
  {
   "cell_type": "code",
   "execution_count": 61,
   "id": "bcb01a86-df52-40fa-9270-ae9adbfebe96",
   "metadata": {},
   "outputs": [],
   "source": [
    "#openai function for code translation \n",
    "def python_c_l(message,language):\n",
    "    response = ollama.chat(\n",
    "        model = 'llama3.2',\n",
    "        messages = [{'role':'system','content':system_prompt},{'role':'user','content':f'this is the python code generate equivalent {language} code for this'+message}]\n",
    "    )\n",
    "    response = response['message']['content']\n",
    "    return response"
   ]
  },
  {
   "cell_type": "code",
   "execution_count": 62,
   "id": "4a83cd88-51cd-431e-88b0-8a0cd8ed1a49",
   "metadata": {},
   "outputs": [],
   "source": [
    "# llama function for code translation\n",
    "def python_c_oa(message,language):\n",
    "    response = openai.chat.completions.create(\n",
    "        model = 'gpt-4o-mini',\n",
    "        messages = [{'role':'system','content':system_prompt},{'role':'user','content':f'this is the python code generate equivalent {language} code for this'+message}]\n",
    "    )\n",
    "    response = response.choices[0].message.content\n",
    "    return response\n"
   ]
  },
  {
   "cell_type": "code",
   "execution_count": 63,
   "id": "d2eb50c5-1bcc-4535-aedd-e0d10dd365ec",
   "metadata": {},
   "outputs": [],
   "source": [
    "# function to interact with Gradio and selecting llm model\n",
    "def model_selector(model,message,language):\n",
    "    if model=='OpenAI':\n",
    "        a = python_c_oa(message,language)\n",
    "        return a\n",
    "    if model=='Ollama':\n",
    "        a = python_c_l(message,language)\n",
    "        return a"
   ]
  },
  {
   "cell_type": "code",
   "execution_count": 64,
   "id": "19677541-ae46-4b3e-982b-7cdd64e2ada9",
   "metadata": {
    "editable": true,
    "slideshow": {
     "slide_type": ""
    },
    "tags": []
   },
   "outputs": [
    {
     "name": "stdout",
     "output_type": "stream",
     "text": [
      "* Running on local URL:  http://127.0.0.1:7877\n",
      "* Running on public URL: https://2d1d64685b09a68750.gradio.live\n",
      "\n",
      "This share link expires in 1 week. For free permanent hosting and GPU upgrades, run `gradio deploy` from the terminal in the working directory to deploy to Hugging Face Spaces (https://huggingface.co/spaces)\n"
     ]
    },
    {
     "data": {
      "text/html": [
       "<div><iframe src=\"https://2d1d64685b09a68750.gradio.live\" width=\"100%\" height=\"500\" allow=\"autoplay; camera; microphone; clipboard-read; clipboard-write;\" frameborder=\"0\" allowfullscreen></iframe></div>"
      ],
      "text/plain": [
       "<IPython.core.display.HTML object>"
      ]
     },
     "metadata": {},
     "output_type": "display_data"
    },
    {
     "data": {
      "text/plain": []
     },
     "execution_count": 64,
     "metadata": {},
     "output_type": "execute_result"
    }
   ],
   "source": [
    "# gradio part\n",
    "\n",
    "with gr.Blocks() as view:\n",
    "    gr.Markdown(\"<h1 style='text-align: center; color: #4f46e5;'>🔄 Python to Other Language Converter</h1>\")\n",
    "\n",
    "    gr.Interface(\n",
    "        fn=model_selector,\n",
    "        inputs=[\n",
    "            gr.Dropdown(choices=['OpenAI','Ollama'], label='LLM Model'),\n",
    "            gr.Textbox(label='Your Python Code', lines=8, placeholder='Paste your code here'),\n",
    "            gr.Dropdown(choices=['Java','C','C++','JavaScipt'], label='Language')\n",
    "        ],\n",
    "        outputs=[gr.Markdown(label='Equivalent Code')],\n",
    "        flagging_mode='never'\n",
    "    )\n",
    "\n",
    "view.launch(share=True)"
   ]
  }
 ],
 "metadata": {
  "kernelspec": {
   "display_name": "Python 3 (ipykernel)",
   "language": "python",
   "name": "python3"
  },
  "language_info": {
   "codemirror_mode": {
    "name": "ipython",
    "version": 3
   },
   "file_extension": ".py",
   "mimetype": "text/x-python",
   "name": "python",
   "nbconvert_exporter": "python",
   "pygments_lexer": "ipython3",
   "version": "3.11.13"
  }
 },
 "nbformat": 4,
 "nbformat_minor": 5
}
